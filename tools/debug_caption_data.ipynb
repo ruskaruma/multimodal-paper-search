{
 "cells": [
  {
   "cell_type": "code",
   "execution_count": 1,
   "id": "3cf7ea95-0eff-4c9c-97ce-8bc01ed16d38",
   "metadata": {},
   "outputs": [
    {
     "name": "stdout",
     "output_type": "stream",
     "text": [
      "✅ Total matched captions: 3685\n",
      "\n",
      "🔍 Sample entries:\n",
      "2507.12248v1_fig0.png → Fig. 1: Various classes of PathMNIST dataset. 3\n",
      "2507.12248v1_fig1.png → Fig. 2: Class distribution across the PathMNIST dataset. 3.2\n",
      "2507.12248v1_fig2.png → Table 1: Architecture and hyperparameters of the selected CNN\n",
      "2507.12248v1_fig3.png → Fig. 3: Confusion matrices produced by models implemented in (a) Keras, (b)\n",
      "2507.12248v1_fig4.png → Table 2: Comparison of CNN Performance Across Frameworks\n"
     ]
    }
   ],
   "source": [
    "import json\n",
    "\n",
    "with open('../data/captions.json') as f:\n",
    "    data = json.load(f)\n",
    "\n",
    "print(f\"✅ Total matched captions: {len(data)}\")\n",
    "print(\"\\n🔍 Sample entries:\")\n",
    "for k, v in list(data.items())[:5]:\n",
    "    print(f\"{k} → {v}\")\n"
   ]
  },
  {
   "cell_type": "code",
   "execution_count": null,
   "id": "5262edcd-dc42-4903-9db8-32504cdb3947",
   "metadata": {},
   "outputs": [],
   "source": []
  }
 ],
 "metadata": {
  "kernelspec": {
   "display_name": "Python 3 (ipykernel)",
   "language": "python",
   "name": "python3"
  },
  "language_info": {
   "codemirror_mode": {
    "name": "ipython",
    "version": 3
   },
   "file_extension": ".py",
   "mimetype": "text/x-python",
   "name": "python",
   "nbconvert_exporter": "python",
   "pygments_lexer": "ipython3",
   "version": "3.9.23"
  }
 },
 "nbformat": 4,
 "nbformat_minor": 5
}
