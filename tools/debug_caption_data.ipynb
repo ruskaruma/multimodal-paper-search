{
 "cells": [
  {
   "cell_type": "code",
   "execution_count": 1,
   "id": "3cf7ea95-0eff-4c9c-97ce-8bc01ed16d38",
   "metadata": {},
   "outputs": [
    {
     "name": "stdout",
     "output_type": "stream",
     "text": [
      "✅ Total matched captions: 3685\n",
      "\n",
      "🔍 Sample entries:\n",
      "2507.12248v1_fig0.png → Fig. 1: Various classes of PathMNIST dataset. 3\n",
      "2507.12248v1_fig1.png → Fig. 2: Class distribution across the PathMNIST dataset. 3.2\n",
      "2507.12248v1_fig2.png → Table 1: Architecture and hyperparameters of the selected CNN\n",
      "2507.12248v1_fig3.png → Fig. 3: Confusion matrices produced by models implemented in (a) Keras, (b)\n",
      "2507.12248v1_fig4.png → Table 2: Comparison of CNN Performance Across Frameworks\n"
     ]
    }
   ],
   "source": [
    "import json\n",
    "\n",
    "with open('../data/captions.json') as f:\n",
    "    data = json.load(f)\n",
    "\n",
    "print(f\"✅ Total matched captions: {len(data)}\")\n",
    "print(\"\\n🔍 Sample entries:\")\n",
    "for k, v in list(data.items())[:5]:\n",
    "    print(f\"{k} → {v}\")\n"
   ]
  },
  {
   "cell_type": "code",
   "execution_count": 1,
   "id": "5262edcd-dc42-4903-9db8-32504cdb3947",
   "metadata": {},
   "outputs": [
    {
     "ename": "RuntimeError",
     "evalue": "Error in faiss::FileIOReader::FileIOReader(const char*) at /project/faiss/faiss/impl/io.cpp:67: Error: 'f' failed: could not open data/faiss_index.bin for reading: No such file or directory",
     "output_type": "error",
     "traceback": [
      "\u001b[0;31m---------------------------------------------------------------------------\u001b[0m",
      "\u001b[0;31mRuntimeError\u001b[0m                              Traceback (most recent call last)",
      "\u001b[0;32m/tmp/ipykernel_944575/2045224886.py\u001b[0m in \u001b[0;36m?\u001b[0;34m()\u001b[0m\n\u001b[0;32m----> 3\u001b[0;31m \u001b[0;32mimport\u001b[0m \u001b[0mfaiss\u001b[0m\u001b[0;34m\u001b[0m\u001b[0;34m\u001b[0m\u001b[0m\n\u001b[0m\u001b[1;32m      4\u001b[0m \u001b[0;34m\u001b[0m\u001b[0m\n\u001b[1;32m      5\u001b[0m \u001b[0mindex\u001b[0m \u001b[0;34m=\u001b[0m \u001b[0mfaiss\u001b[0m\u001b[0;34m.\u001b[0m\u001b[0mread_index\u001b[0m\u001b[0;34m(\u001b[0m\u001b[0;34m\"data/faiss_index.bin\"\u001b[0m\u001b[0;34m)\u001b[0m\u001b[0;34m\u001b[0m\u001b[0;34m\u001b[0m\u001b[0m\n\u001b[1;32m      6\u001b[0m \u001b[0mprint\u001b[0m\u001b[0;34m(\u001b[0m\u001b[0;34m\"FAISS index vectors:\"\u001b[0m\u001b[0;34m,\u001b[0m \u001b[0mindex\u001b[0m\u001b[0;34m.\u001b[0m\u001b[0mntotal\u001b[0m\u001b[0;34m)\u001b[0m\u001b[0;34m\u001b[0m\u001b[0;34m\u001b[0m\u001b[0m\n",
      "\u001b[0;32m~/virtual-envs/ml-env/lib/python3.9/site-packages/faiss/swigfaiss_avx2.py\u001b[0m in \u001b[0;36m?\u001b[0;34m(*args)\u001b[0m\n\u001b[1;32m  11640\u001b[0m \u001b[0;32mdef\u001b[0m \u001b[0mread_index\u001b[0m\u001b[0;34m(\u001b[0m\u001b[0;34m*\u001b[0m\u001b[0margs\u001b[0m\u001b[0;34m)\u001b[0m\u001b[0;34m:\u001b[0m\u001b[0;34m\u001b[0m\u001b[0;34m\u001b[0m\u001b[0m\n\u001b[0;32m> 11641\u001b[0;31m     \u001b[0;32mreturn\u001b[0m \u001b[0m_swigfaiss_avx2\u001b[0m\u001b[0;34m.\u001b[0m\u001b[0mread_index\u001b[0m\u001b[0;34m(\u001b[0m\u001b[0;34m*\u001b[0m\u001b[0margs\u001b[0m\u001b[0;34m)\u001b[0m\u001b[0;34m\u001b[0m\u001b[0;34m\u001b[0m\u001b[0m\n\u001b[0m",
      "\u001b[0;31mRuntimeError\u001b[0m: Error in faiss::FileIOReader::FileIOReader(const char*) at /project/faiss/faiss/impl/io.cpp:67: Error: 'f' failed: could not open data/faiss_index.bin for reading: No such file or directory"
     ]
    }
   ],
   "source": [
    "import faiss\n",
    "\n",
    "index = faiss.read_index(\"data/faiss_index.bin\")\n",
    "print(\"FAISS index vectors:\", index.ntotal)\n",
    "print(\"Dimension:\", index.d)"
   ]
  },
  {
   "cell_type": "code",
   "execution_count": null,
   "id": "45ea7de8-671a-4d19-9025-054ae027f9c2",
   "metadata": {},
   "outputs": [],
   "source": []
  }
 ],
 "metadata": {
  "kernelspec": {
   "display_name": "Python 3 (ipykernel)",
   "language": "python",
   "name": "python3"
  },
  "language_info": {
   "codemirror_mode": {
    "name": "ipython",
    "version": 3
   },
   "file_extension": ".py",
   "mimetype": "text/x-python",
   "name": "python",
   "nbconvert_exporter": "python",
   "pygments_lexer": "ipython3",
   "version": "3.9.23"
  }
 },
 "nbformat": 4,
 "nbformat_minor": 5
}
