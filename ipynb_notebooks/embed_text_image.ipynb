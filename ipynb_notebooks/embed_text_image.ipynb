{
 "cells": [
  {
   "cell_type": "code",
   "execution_count": 4,
   "id": "0247b6e5-ffda-4350-880e-9803c2015b42",
   "metadata": {},
   "outputs": [
    {
     "name": "stderr",
     "output_type": "stream",
     "text": [
      "/home/ruskaruma/virtual-envs/ml-env/lib/python3.9/site-packages/huggingface_hub/file_download.py:943: FutureWarning: `resume_download` is deprecated and will be removed in version 1.0.0. Downloads always resume when possible. If you want to force a new download, use `force_download=True`.\n",
      "  warnings.warn(\n"
     ]
    }
   ],
   "source": [
    "import os\n",
    "import json\n",
    "import numpy as np\n",
    "import torch\n",
    "from transformers import AutoTokenizer, AutoModel\n",
    "from PIL import Image\n",
    "from tqdm import tqdm\n",
    "from transformers import CLIPProcessor, CLIPModel\n",
    "\n",
    "#Loading SciBERT\n",
    "scibert_tokenizer=AutoTokenizer.from_pretrained(\"allenai/scibert_scivocab_uncased\")\n",
    "scibert_model =AutoModel.from_pretrained(\"allenai/scibert_scivocab_uncased\")\n",
    "\n",
    "#Loadi9ng CLIP\n",
    "clip_model =CLIPModel.from_pretrained(\"openai/clip-vit-base-patch32\")\n",
    "clip_processor= CLIPProcessor.from_pretrained(\"openai/clip-vit-base-patch32\")\n"
   ]
  },
  {
   "cell_type": "code",
   "execution_count": 5,
   "id": "2d204d5d-b8cf-4973-bd60-57fc400872a8",
   "metadata": {},
   "outputs": [
    {
     "name": "stderr",
     "output_type": "stream",
     "text": [
      "100%|███████████████████████████████████████| 3685/3685 [01:19<00:00, 46.39it/s]\n"
     ]
    }
   ],
   "source": [
    "with open(\"../data/captions.json\") as f:\n",
    "    captions=json.load(f)\n",
    "\n",
    "os.makedirs(\"../data/embeddings\", exist_ok=True)\n",
    "\n",
    "for filename, caption in tqdm(captions.items()):\n",
    "    tokens=scibert_tokenizer(caption, return_tensors=\"pt\", truncation=True, padding=True, max_length=128)\n",
    "    with torch.no_grad():\n",
    "        embedding=scibert_model(**tokens).last_hidden_state.mean(dim=1).squeeze().numpy()\n",
    "    np.save(f\"../data/embeddings/{filename}_text.npy\", embedding)\n"
   ]
  },
  {
   "cell_type": "code",
   "execution_count": 7,
   "id": "c5534193-600a-4164-b34d-ecac832b4681",
   "metadata": {},
   "outputs": [
    {
     "name": "stderr",
     "output_type": "stream",
     "text": [
      "  5%|██                                      | 337/6463 [00:15<04:23, 23.27it/s]"
     ]
    },
    {
     "name": "stdout",
     "output_type": "stream",
     "text": [
      "[⚠️] Failed on 2507.13334v1_fig38.png: mean must have 1 elements if it is an iterable, got 3\n"
     ]
    },
    {
     "name": "stderr",
     "output_type": "stream",
     "text": [
      "  6%|██▌                                     | 410/6463 [00:19<05:12, 19.36it/s]"
     ]
    },
    {
     "name": "stdout",
     "output_type": "stream",
     "text": [
      "[⚠️] Failed on 2507.12565v1_fig16.png: mean must have 1 elements if it is an iterable, got 3\n"
     ]
    },
    {
     "name": "stderr",
     "output_type": "stream",
     "text": [
      " 51%|████████████████████                   | 3321/6463 [02:48<02:50, 18.42it/s]"
     ]
    },
    {
     "name": "stdout",
     "output_type": "stream",
     "text": [
      "[⚠️] Failed on 2507.13334v1_fig40.png: mean must have 1 elements if it is an iterable, got 3\n"
     ]
    },
    {
     "name": "stderr",
     "output_type": "stream",
     "text": [
      " 88%|██████████████████████████████████▏    | 5674/6463 [04:49<00:41, 18.92it/s]"
     ]
    },
    {
     "name": "stdout",
     "output_type": "stream",
     "text": [
      "[⚠️] Failed on 2507.12565v1_fig14.png: mean must have 1 elements if it is an iterable, got 3\n"
     ]
    },
    {
     "name": "stderr",
     "output_type": "stream",
     "text": [
      "100%|███████████████████████████████████████| 6463/6463 [05:32<00:00, 19.42it/s]\n"
     ]
    }
   ],
   "source": [
    "image_dir=\"../data/images\"\n",
    "output_dir=\"../data/embeddings\"\n",
    "os.makedirs(output_dir, exist_ok=True)\n",
    "for filename in tqdm(os.listdir(image_dir)):\n",
    "    if not filename.endswith(\".png\"):\n",
    "        continue\n",
    "    image_path=os.path.join(image_dir, filename)\n",
    "    try:\n",
    "        image =Image.open(image_path).convert(\"RGB\")\n",
    "        inputs=clip_processor(images=image, return_tensors=\"pt\")\n",
    "        with torch.no_grad():\n",
    "            features =clip_model.get_image_features(**inputs)\n",
    "\n",
    "        #function to ensure correct shaping \n",
    "        if features.dim() == 2 and features.shape[0] == 1:\n",
    "            embedding =features[0].numpy()\n",
    "        elif features.dim() ==1:\n",
    "            embedding = features.numpy()\n",
    "        else:\n",
    "            raise ValueError(f\"Unexpected feature shape:{features.shape}\")\n",
    "\n",
    "        np.save(os.path.join(output_dir, f\"{filename}_image.npy\"),embedding)\n",
    "        \n",
    "    except Exception as e:\n",
    "        print(f\"[⚠️] Failed on {filename}:{e}\")\n"
   ]
  },
  {
   "cell_type": "code",
   "execution_count": null,
   "id": "b47f91a2-ac86-475e-8eb3-0cbb1b4a3a82",
   "metadata": {},
   "outputs": [],
   "source": []
  }
 ],
 "metadata": {
  "kernelspec": {
   "display_name": "Python 3 (ipykernel)",
   "language": "python",
   "name": "python3"
  },
  "language_info": {
   "codemirror_mode": {
    "name": "ipython",
    "version": 3
   },
   "file_extension": ".py",
   "mimetype": "text/x-python",
   "name": "python",
   "nbconvert_exporter": "python",
   "pygments_lexer": "ipython3",
   "version": "3.9.23"
  }
 },
 "nbformat": 4,
 "nbformat_minor": 5
}
